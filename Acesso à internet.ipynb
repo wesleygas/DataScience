{
 "cells": [
  {
   "cell_type": "markdown",
   "metadata": {},
   "source": [
    "- Todo\n",
    "\n",
    "!!!Legenda nos gráficos!!!\n"
   ]
  },
  {
   "cell_type": "markdown",
   "metadata": {},
   "source": [
    "Comando para separar uma parte de um dataset:"
   ]
  },
  {
   "cell_type": "code",
   "execution_count": null,
   "metadata": {
    "collapsed": true
   },
   "outputs": [],
   "source": [
    "dados_resumidos = dados.loc[:,[\"nome da coluna\",\"nome da outra coluna\"]]\n",
    "dados_resumidos.to_csv(\"resumo.csv\")"
   ]
  },
  {
   "cell_type": "markdown",
   "metadata": {},
   "source": [
    "Manipulando Dados incompletos (null, Nan):"
   ]
  },
  {
   "cell_type": "code",
   "execution_count": null,
   "metadata": {
    "collapsed": true
   },
   "outputs": [],
   "source": [
    "dados_nao_nulos = dados[pd.notnull(dados.nome_da_coluna)]\n",
    "dados_filled = dados.nome_da_coluna.fillna('filler')\n"
   ]
  },
  {
   "cell_type": "code",
   "execution_count": 2,
   "metadata": {
    "collapsed": true
   },
   "outputs": [],
   "source": [
    "#dados = pd.read_excel('PES2015.xlsx')"
   ]
  },
  {
   "cell_type": "markdown",
   "metadata": {},
   "source": [
    "Exportando Dados"
   ]
  },
  {
   "cell_type": "code",
   "execution_count": 9,
   "metadata": {
    "collapsed": true
   },
   "outputs": [],
   "source": [
    "#dados_selecionados = dados.loc[:,[\"UF\",\"V061112\",\"V061113\",\"V06112\",\"V8005\",\"V4742\",\"V6003\"]]\n",
    "#dados_selecionados.head()\n",
    "#dados_selecionados.to_csv(\"dados_selecionados.csv\")\n",
    "#dados_selecionados.coluna[condition] = 'nome novo'"
   ]
  },
  {
   "cell_type": "markdown",
   "metadata": {
    "collapsed": true
   },
   "source": [
    "     Você é um banco querendo expandir sua plataforma digital. Porém, os custos de fazer duas (uma para mobile e outra pra computador) é muito grande e seus investidores concordaram que se ao menos 75% dos seus principais possíveis usuários (localizados em São Paulo) que estão no ensino superior utilizarem internet pelo celular eles custearão o desenvolvimento."
   ]
  },
  {
   "cell_type": "markdown",
   "metadata": {},
   "source": [
    " Logo, os dados deverão ser sobre o modo de acesso à internet, a idade e o curso"
   ]
  },
  {
   "cell_type": "markdown",
   "metadata": {},
   "source": [
    "Bibliotecas a serem utilizadas"
   ]
  },
  {
   "cell_type": "code",
   "execution_count": 1,
   "metadata": {
    "collapsed": true
   },
   "outputs": [],
   "source": [
    "%matplotlib inline\n",
    "import pandas as pd\n",
    "import matplotlib.pyplot as plt\n",
    "import os"
   ]
  },
  {
   "cell_type": "markdown",
   "metadata": {},
   "source": [
    "Testando o diretório em que estamos trabalhando"
   ]
  },
  {
   "cell_type": "code",
   "execution_count": 2,
   "metadata": {},
   "outputs": [
    {
     "data": {
      "text/plain": [
       "'C:\\\\Users\\\\wesle\\\\Desktop\\\\Insper\\\\Ciência dos dados\\\\DataScience'"
      ]
     },
     "execution_count": 2,
     "metadata": {},
     "output_type": "execute_result"
    }
   ],
   "source": [
    "os.getcwd()"
   ]
  },
  {
   "cell_type": "code",
   "execution_count": 3,
   "metadata": {},
   "outputs": [
    {
     "data": {
      "text/html": [
       "<div>\n",
       "<style>\n",
       "    .dataframe thead tr:only-child th {\n",
       "        text-align: right;\n",
       "    }\n",
       "\n",
       "    .dataframe thead th {\n",
       "        text-align: left;\n",
       "    }\n",
       "\n",
       "    .dataframe tbody tr th {\n",
       "        vertical-align: top;\n",
       "    }\n",
       "</style>\n",
       "<table border=\"1\" class=\"dataframe\">\n",
       "  <thead>\n",
       "    <tr style=\"text-align: right;\">\n",
       "      <th></th>\n",
       "      <th>Unnamed: 0</th>\n",
       "      <th>ACESSO_PC</th>\n",
       "      <th>ACESSO_CELULAR</th>\n",
       "      <th>TEM_CELULAR</th>\n",
       "      <th>IDADE</th>\n",
       "      <th>CURSO</th>\n",
       "    </tr>\n",
       "  </thead>\n",
       "  <tbody>\n",
       "    <tr>\n",
       "      <th>0</th>\n",
       "      <td>0</td>\n",
       "      <td>1.0</td>\n",
       "      <td>1.0</td>\n",
       "      <td>1.0</td>\n",
       "      <td>51</td>\n",
       "      <td>-</td>\n",
       "    </tr>\n",
       "    <tr>\n",
       "      <th>1</th>\n",
       "      <td>1</td>\n",
       "      <td>1.0</td>\n",
       "      <td>1.0</td>\n",
       "      <td>1.0</td>\n",
       "      <td>40</td>\n",
       "      <td>-</td>\n",
       "    </tr>\n",
       "    <tr>\n",
       "      <th>2</th>\n",
       "      <td>2</td>\n",
       "      <td>1.0</td>\n",
       "      <td>1.0</td>\n",
       "      <td>1.0</td>\n",
       "      <td>53</td>\n",
       "      <td>-</td>\n",
       "    </tr>\n",
       "    <tr>\n",
       "      <th>3</th>\n",
       "      <td>3</td>\n",
       "      <td>1.0</td>\n",
       "      <td>1.0</td>\n",
       "      <td>1.0</td>\n",
       "      <td>56</td>\n",
       "      <td>-</td>\n",
       "    </tr>\n",
       "    <tr>\n",
       "      <th>4</th>\n",
       "      <td>4</td>\n",
       "      <td>-</td>\n",
       "      <td>-</td>\n",
       "      <td>3.0</td>\n",
       "      <td>71</td>\n",
       "      <td>-</td>\n",
       "    </tr>\n",
       "    <tr>\n",
       "      <th>5</th>\n",
       "      <td>5</td>\n",
       "      <td>1.0</td>\n",
       "      <td>1.0</td>\n",
       "      <td>1.0</td>\n",
       "      <td>24</td>\n",
       "      <td>5.0</td>\n",
       "    </tr>\n",
       "    <tr>\n",
       "      <th>6</th>\n",
       "      <td>6</td>\n",
       "      <td>-</td>\n",
       "      <td>-</td>\n",
       "      <td>1.0</td>\n",
       "      <td>63</td>\n",
       "      <td>-</td>\n",
       "    </tr>\n",
       "    <tr>\n",
       "      <th>7</th>\n",
       "      <td>7</td>\n",
       "      <td>-</td>\n",
       "      <td>-</td>\n",
       "      <td>3.0</td>\n",
       "      <td>63</td>\n",
       "      <td>-</td>\n",
       "    </tr>\n",
       "    <tr>\n",
       "      <th>8</th>\n",
       "      <td>8</td>\n",
       "      <td>-</td>\n",
       "      <td>-</td>\n",
       "      <td>3.0</td>\n",
       "      <td>92</td>\n",
       "      <td>-</td>\n",
       "    </tr>\n",
       "    <tr>\n",
       "      <th>9</th>\n",
       "      <td>9</td>\n",
       "      <td>1.0</td>\n",
       "      <td>2.0</td>\n",
       "      <td>1.0</td>\n",
       "      <td>56</td>\n",
       "      <td>-</td>\n",
       "    </tr>\n",
       "  </tbody>\n",
       "</table>\n",
       "</div>"
      ],
      "text/plain": [
       "   Unnamed: 0 ACESSO_PC ACESSO_CELULAR TEM_CELULAR  IDADE CURSO\n",
       "0           0       1.0            1.0         1.0     51     -\n",
       "1           1       1.0            1.0         1.0     40     -\n",
       "2           2       1.0            1.0         1.0     53     -\n",
       "3           3       1.0            1.0         1.0     56     -\n",
       "4           4         -              -         3.0     71     -\n",
       "5           5       1.0            1.0         1.0     24   5.0\n",
       "6           6         -              -         1.0     63     -\n",
       "7           7         -              -         3.0     63     -\n",
       "8           8         -              -         3.0     92     -\n",
       "9           9       1.0            2.0         1.0     56     -"
      ]
     },
     "execution_count": 3,
     "metadata": {},
     "output_type": "execute_result"
    }
   ],
   "source": [
    "#dados = pd.read_csv(\"arquivo.zip\",compression = \"zip\")\n",
    "#dados = pd.read_csv('dados_selecionados_sp.csv')\n",
    "dadosSP = pd.read_csv('dados_selecionados_sp.csv')\n",
    "dadosSP.head(10)"
   ]
  },
  {
   "cell_type": "code",
   "execution_count": 27,
   "metadata": {
    "collapsed": true
   },
   "outputs": [],
   "source": [
    "#dados = dados[(pd.notnull(dados.UF))&(pd.notnull(dados.V8005))]\n",
    "#dados.shape\n",
    "#dados_selecionados = dados[dados['UF'] == 35]\n",
    "#dados_selecionados\n",
    "#dados = dados.fillna(\"-\")"
   ]
  },
  {
   "cell_type": "code",
   "execution_count": 5,
   "metadata": {
    "collapsed": true
   },
   "outputs": [],
   "source": [
    "\n",
    "\n",
    "del dadosSP['Unnamed: 0']\n",
    "\n",
    "#dadosSP.to_csv(\"dados_selecionados_sp.csv\")"
   ]
  },
  {
   "cell_type": "code",
   "execution_count": 4,
   "metadata": {
    "collapsed": true
   },
   "outputs": [],
   "source": [
    "#dados.UF = dados.UF.astype('category')\n",
    "dadosSP.ACESSO_PC = dadosSP.ACESSO_PC.astype('category') #Acesso pelo PC\n",
    "dadosSP.ACESSO_CELULAR = dadosSP.ACESSO_CELULAR.astype('category') #Acesso pelo celular\n",
    "dadosSP.TEM_CELULAR = dadosSP.TEM_CELULAR.astype('category') #Possui Celular\n",
    "dadosSP.CURSO = dadosSP.CURSO.astype('category') #Curso que frequenta\n",
    "\n"
   ]
  },
  {
   "cell_type": "code",
   "execution_count": 6,
   "metadata": {},
   "outputs": [],
   "source": [
    "\n",
    "#dados.V9999.cat.categories = []\n",
    "dadosSP.tail()\n",
    "dadosSP.ACESSO_PC.cat.categories = ('nenhum_acesso','sim','nao')\n",
    "dadosSP.ACESSO_CELULAR.cat.categories  = ('nenhum_acesso','sim','nao')\n",
    "dadosSP.TEM_CELULAR.cat.categories = ('nenhum_acesso','sim','nao')\n",
    "dadosSP.CURSO.cat.categories  = ('nenhum_curso','EF','vestibulando','mestrado_doutorado','EM','EJA','supletivo','graduacao','alfabetizacao_adulto','creche','alfabetizacao_crianca','maternal')\n"
   ]
  },
  {
   "cell_type": "code",
   "execution_count": 7,
   "metadata": {},
   "outputs": [
    {
     "data": {
      "image/png": "[encoded data removed]",
      "text/plain": [
       "<matplotlib.figure.Figure at 0x1efe2eddc18>"
      ]
     },
     "metadata": {},
     "output_type": "display_data"
    },
    {
     "data": {
      "image/png": "[encoded data removed]",
      "text/plain": [
       "<matplotlib.figure.Figure at 0x1efe33adb38>"
      ]
     },
     "metadata": {},
     "output_type": "display_data"
    }
   ],
   "source": [
    "\n",
    "\n",
    "\n",
    "celular_curso = pd.crosstab(dadosSP.CURSO[(dadosSP.CURSO != 'nenhum_curso') & (dadosSP.CURSO != 'EF')],dadosSP.ACESSO_CELULAR)\n",
    "celular_curso1 = celular_curso.iloc[2:11,:]\n",
    "plot = celular_curso1.plot(kind = 'bar', title='acesso à internet pelo celular por curso:')\n",
    "plt.show()\n",
    "\n",
    "\n",
    "celular_curso = celular_curso.iloc[7,:]\n",
    "plot = celular_curso.plot(kind = 'bar', title='acesso à internet pelo celular na graduação:', color= ('blue','orange','red'))\n",
    "\n"
   ]
  },
  {
   "cell_type": "code",
   "execution_count": 8,
   "metadata": {},
   "outputs": [
    {
     "name": "stdout",
     "output_type": "stream",
     "text": [
      "Assim, 93.99865138233311 % da dos estudantes da graduação acessam a internet pelo celular\n"
     ]
    }
   ],
   "source": [
    "print('Assim, {} % da dos estudantes da graduação acessam a internet pelo celular'.format((1394/(16+1394+73)*100)))"
   ]
  },
  {
   "cell_type": "code",
   "execution_count": 9,
   "metadata": {},
   "outputs": [
    {
     "data": {
      "text/plain": [
       "<matplotlib.axes._subplots.AxesSubplot at 0x1efe34989e8>"
      ]
     },
     "execution_count": 9,
     "metadata": {},
     "output_type": "execute_result"
    },
    {
     "data": {
      "image/png": "[encoded data removed]",
      "text/plain": [
       "<matplotlib.figure.Figure at 0x1efe2d71390>"
      ]
     },
     "metadata": {},
     "output_type": "display_data"
    }
   ],
   "source": [
    "idade_curso = dadosSP.IDADE[dadosSP.CURSO == 'graduacao']\n",
    "idade_curso.plot(kind='box',title='Distribuição das idades na graduação',figsize=(5,7))"
   ]
  },
  {
   "cell_type": "code",
   "execution_count": null,
   "metadata": {
    "collapsed": true
   },
   "outputs": [],
   "source": []
  }
 ],
 "metadata": {
  "kernelspec": {
   "display_name": "Python 3",
   "language": "python",
   "name": "python3"
  },
  "language_info": {
   "codemirror_mode": {
    "name": "ipython",
    "version": 3
   },
   "file_extension": ".py",
   "mimetype": "text/x-python",
   "name": "python",
   "nbconvert_exporter": "python",
   "pygments_lexer": "ipython3",
   "version": "3.6.1"
  }
 },
 "nbformat": 4,
 "nbformat_minor": 2
}
